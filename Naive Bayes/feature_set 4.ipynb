{
 "cells": [
  {
   "cell_type": "markdown",
   "metadata": {},
   "source": [
    "# CASE 4: All text feature as seperate field + Column normalization of all feature\n"
   ]
  },
  {
   "cell_type": "markdown",
   "metadata": {},
   "source": [
    "> Using MaxAbsScaler for scaling bcoz it can work with sparse matrix without destroying sparsity and behves amme as MinMaxScaler for positive dataset "
   ]
  },
  {
   "cell_type": "code",
   "execution_count": 19,
   "metadata": {},
   "outputs": [],
   "source": [
    "import numpy as np\n",
    "import pandas as pd\n",
    "import matplotlib.pyplot as plt\n",
    "import seaborn as sns\n",
    "from tqdm import tqdm\n",
    "import random \n",
    "import math as m\n",
    "\n",
    "import warnings\n",
    "warnings.filterwarnings('ignore')\n",
    "\n",
    "from sklearn.naive_bayes                  import MultinomialNB\n",
    "from sklearn.model_selection              import StratifiedKFold\n",
    "from sklearn.preprocessing                import MaxAbsScaler\n",
    "from sklearn.model_selection              import train_test_split\n",
    "from sklearn.feature_extraction.text      import CountVectorizer\n",
    "from sklearn.feature_extraction.text      import TfidfVectorizer\n",
    "from sklearn.impute                       import SimpleImputer\n",
    "from sklearn.metrics                      import confusion_matrix\n",
    "from sklearn                              import metrics\n",
    "from sklearn.metrics                      import roc_curve, auc, roc_auc_score\n",
    "\n",
    "\n",
    "from scipy.sparse                         import hstack\n"
   ]
  },
  {
   "cell_type": "markdown",
   "metadata": {},
   "source": [
    "Function for vectorization \n",
    "> parameter\n",
    "> 1. X_train       : training feature dataset\n",
    "> 2. x_cv          : cross-validation feature dataset\n",
    "> 3. Transform_type: Text feature extrctiion type--1 for bag of words & 2 for tf-idf"
   ]
  },
  {
   "cell_type": "markdown",
   "metadata": {},
   "source": [
    "> Attribute\n",
    "> 1. transformed feature of training data\n",
    "> 2. Transformed feature of cross-validation data\n",
    "> 3. Feature List"
   ]
  },
  {
   "cell_type": "code",
   "execution_count": 40,
   "metadata": {},
   "outputs": [],
   "source": [
    "def Vectorization(x_train,x_cv,transform_type):\n",
    "    ''' Txxt feature extraction of donor choose dataset '''\n",
    "    vectorizer = None\n",
    "    train_x = {}\n",
    "    cv_x    = {}\n",
    "#  Deciding Vectorizor\n",
    "    if transform_type == 1:\n",
    "        vectorizer = CountVectorizer(min_df=10,ngram_range=(1,4),max_features=5000)\n",
    "    elif transform_type == 2:\n",
    "        vectorizer = TfidfVectorizer(min_df=10,ngram_range=(1,4),max_features=5000)\n",
    "        \n",
    "# filling empty values\n",
    "    for i in ['project_title','essay','project_resource_summary','project_grade_category',\\\n",
    "              'project_subject_subcategories','school_state','teacher_prefix','project_subject_categories']:\n",
    "        x_train[i]  = x_train[i].fillna('')\n",
    "        x_cv[i]     = x_cv[i].fillna('')\n",
    "# Feature Transformation  \n",
    "    features_list = list()\n",
    "    for i in ['project_title','essay','project_resource_summary','project_grade_category',\\\n",
    "              'project_subject_subcategories','school_state','teacher_prefix','project_subject_categories']:\n",
    "        vectorizer.fit(x_train[i].values)\n",
    "        train_x[i]  = vectorizer.transform(x_train[i].values)\n",
    "        cv_x[i]     = vectorizer.transform(x_cv[i].values)\n",
    "        features    = vectorizer.get_feature_names()\n",
    "        features_list.extend(features)      \n",
    "\n",
    "# imputing missing value of price and quantity\n",
    "    imputer = SimpleImputer(missing_values=np.nan, strategy='median')\n",
    "    imputer.fit(x_train['price'].values.reshape(-1,1))  \n",
    "    train_x['price'] = imputer.transform(x_train['price'].values.reshape(-1, 1))\n",
    "    cv_x['price'] = imputer.transform(x_cv['price'].values.reshape(-1, 1))\n",
    "    \n",
    "    imputer.fit(x_train['quantity'].values.reshape(-1,1))  \n",
    "    train_x['quantity'] = imputer.transform(x_train['quantity'].values.reshape(-1, 1))\n",
    "    cv_x['quantity'] = imputer.transform(x_cv['quantity'].values.reshape(-1, 1))\n",
    "    \n",
    "    train_x['teacher_number_of_previously_posted_projects']= x_train['teacher_number_of_previously_posted_projects'].values.reshape(-1, 1)  \n",
    "    cv_x['teacher_number_of_previously_posted_projects']= x_cv['teacher_number_of_previously_posted_projects'].values.reshape(-1, 1)    \n",
    "\n",
    "\n",
    "#  merging all transformed feature set to ccreate new dataset\n",
    "    x_train_ = hstack((train_x['project_title'] ,train_x['essay'],train_x['project_resource_summary'],\\\n",
    "                       train_x['project_grade_category'],train_x['project_subject_subcategories'],\\\n",
    "                       train_x['school_state'],train_x['teacher_prefix'],\\\n",
    "                       train_x['project_subject_categories'],train_x['price'],train_x['quantity'],\\\n",
    "                       train_x['teacher_number_of_previously_posted_projects'])).tocsr()       \n",
    "    \n",
    "    \n",
    "    x_cv_    = hstack((cv_x['project_title'] ,cv_x['essay'] ,cv_x['project_resource_summary'],\\\n",
    "                       cv_x['project_grade_category'] ,cv_x['project_subject_subcategories'],\\\n",
    "                       cv_x['school_state'] ,cv_x['teacher_prefix'],\\\n",
    "                       cv_x['project_subject_categories'] ,cv_x['price'] ,cv_x['quantity'],\\\n",
    "                       cv_x['teacher_number_of_previously_posted_projects'])).tocsr()\n",
    "    \n",
    "    \n",
    "    # Column Normalizing all feature\n",
    "    scaler = MaxAbsScaler(copy=False)\n",
    "    scaler.fit(x_train_)\n",
    "    x_train_ = scaler.transform(x_train_)\n",
    "    x_cv_ = scaler.transform(x_cv_)\n",
    "    \n",
    "\n",
    "    \n",
    "    features.extend(['price','quantity','teacher_number_of_previously_posted_projects'])\n",
    "    \n",
    "# returning dataset    \n",
    "    return x_train_ , x_cv_ ,features_list"
   ]
  },
  {
   "cell_type": "markdown",
   "metadata": {},
   "source": [
    "Function GridSearchCV\n",
    "> Parameters\n",
    "> 1. x_train       : training features dataset\n",
    "> 2. Y_train       : o/p Class label for dataset\n",
    "> 3. classifier    : Model\n",
    "> 4. folds         : no of folds for cross-validation\n",
    "> 5. transform_type: decides test feature extraction type---1 for Bag of words & 2 for tf-idf vector "
   ]
  },
  {
   "cell_type": "markdown",
   "metadata": {},
   "source": [
    ">Attribute\n",
    "> 1. roc_auc_score of train data\n",
    "> 2. roc_auc_score of cross-validation data\n"
   ]
  },
  {
   "cell_type": "code",
   "execution_count": 21,
   "metadata": {},
   "outputs": [],
   "source": [
    "def GridSearchCV(x_train,y_train,classifier,folds,transform_type) :\n",
    "    \"\"\" K-fold cross validaion\"\"\"\n",
    "    \n",
    "# defining variables for storing auc score of training and cross-validataion data\n",
    "    train_roc_auc_scores = []\n",
    "    cv_roc_auc_scores    = []\n",
    "\n",
    "    \n",
    "# defining hyper-parameter list\n",
    "    params = [10**4,10**3,10**2,10**1,10**0,10**-1,10**-2,10**-3,10**-4]\n",
    "\n",
    "# iteration over each value of hyper-parameter\n",
    "    for hyper_param in tqdm(params):\n",
    "\n",
    "# defining temperory varaibles for storing auc_score of training and cros_validation data for each fold\n",
    "        train_roc_auc_score_for_avg     = []\n",
    "        cv_roc_auc_score_for_avg        = []\n",
    "        \n",
    "\n",
    "#  creating indices for each fold and iteration over each fold\n",
    "        folds_indices    = StratifiedKFold(n_splits=folds,shuffle=True)\n",
    "        for train_ind, cv_ind in folds_indices.split(x_train, y_train):\n",
    "            temp_train_x = x_train.iloc[train_ind]\n",
    "            train_y      = y_train.iloc[train_ind]\n",
    "            temp_cv_x    = x_train.iloc[cv_ind]\n",
    "            cv_y         = y_train.iloc[cv_ind]\n",
    "            \n",
    "            \n",
    "# Vectorization the dataset and creating final training and cvv dataset to operate\n",
    "            train_x, cv_x,feature = Vectorization(temp_train_x,temp_cv_x,transform_type)\n",
    "    \n",
    "            \n",
    "# Assigning hyper-arameter to model or classifier and fitting it on training data\n",
    "            classifier.alpha = hyper_param\n",
    "            classifier.fit(train_x,train_y)\n",
    "            \n",
    "# Predicting log_probanilities for training and cv data and calulating roc_auc_score and storing it in temperory variables\n",
    "            predictions   = classifier.predict_log_proba(train_x)[:,1]\n",
    "            train_roc_auc_score_for_avg.append( roc_auc_score(train_y,predictions) )       \n",
    " \n",
    "            \n",
    "            predictions   = classifier.predict_log_proba(cv_x)[:,1]            \n",
    "            cv_roc_auc_score_for_avg.append( roc_auc_score(cv_y,predictions) )        \n",
    "\n",
    "            \n",
    "\n",
    "    \n",
    "# Averaging the roc_auc_score values of all folds and storing it it final variable \n",
    "        train_roc_auc_scores.append(np.mean(train_roc_auc_score_for_avg))\n",
    "        cv_roc_auc_scores.append(np.mean(cv_roc_auc_score_for_avg)) \n",
    "\n",
    "\n",
    "# Returing the values \n",
    "    return train_roc_auc_scores,cv_roc_auc_scores"
   ]
  },
  {
   "cell_type": "markdown",
   "metadata": {},
   "source": [
    "Function for plotting graph of roc_auc_score Vs hyer-parameter\n",
    "> Parameter \n",
    "> 1. train   : list of values of roc_auc_score of training data\n",
    "> 2. cv      : list of values of roc_auc_score of cross-vlidation data\n",
    "> 3. param   : list of hyper-parameter"
   ]
  },
  {
   "cell_type": "code",
   "execution_count": 22,
   "metadata": {},
   "outputs": [],
   "source": [
    "def Curve_plot(train,cv,param):\n",
    "    plt.grid()\n",
    "    plt.plot( param,train, label='Train AUC')\n",
    "    plt.plot(param, cv, label='CV AUC')\n",
    "    plt.scatter( param,train,label='Train AUC points')\n",
    "    plt.scatter(param, cv, label='CV AUC points')\n",
    "    plt.xscale('log')\n",
    "    plt.xlabel(\"Hyperparameters\")\n",
    "    plt.ylabel(\"ROC_AUC_Score\")\n",
    "    plt.legend()\n",
    "    plt.title(\"ROC_AUC_Score VS Hypermeter\")\n",
    "    plt.show()"
   ]
  },
  {
   "cell_type": "code",
   "execution_count": 23,
   "metadata": {},
   "outputs": [],
   "source": [
    "def top_n_feature(n,fe,prpo):\n",
    "    ''' finds top n features fe: list of feature & prpo :feature_log_probability'''\n",
    "    arr = np.array(fe)\n",
    "    return  arr[list(np.argsort(prpo)[::-1][:n])]\n",
    "    "
   ]
  },
  {
   "cell_type": "code",
   "execution_count": 24,
   "metadata": {},
   "outputs": [],
   "source": [
    "data = pd.read_csv('donor_choose.csv')"
   ]
  },
  {
   "cell_type": "code",
   "execution_count": 25,
   "metadata": {},
   "outputs": [],
   "source": [
    "# seperating class label from feature\n",
    "label    = data['project_is_approved']\n",
    "feature  = data.drop(['project_is_approved'],axis=1)\n",
    "\n",
    "# Spiliting Data into train and test\n",
    "x_train, x_test, y_train, y_test = train_test_split(feature,label,test_size=.33,stratify=label)\n"
   ]
  },
  {
   "cell_type": "code",
   "execution_count": 26,
   "metadata": {},
   "outputs": [],
   "source": [
    "param=[10**4,10**3,10**2,10**1,10**0,10**-1,10**-2,10**-3,10**-4]"
   ]
  },
  {
   "cell_type": "markdown",
   "metadata": {},
   "source": [
    ">For BOW repreentation"
   ]
  },
  {
   "cell_type": "code",
   "execution_count": 27,
   "metadata": {},
   "outputs": [
    {
     "name": "stderr",
     "output_type": "stream",
     "text": [
      "100%|█████████████████████████████████████████████████████████████████████████████████████████████████████████████████████████████████| 9/9 [1:31:15<00:00, 606.07s/it]\n"
     ]
    }
   ],
   "source": [
    "# Hyperparameter Tuning\n",
    "#  GridSearchCV(x_train,y_train,classifier,folds,transform_type)\n",
    "t_sc_1,cv_sc_1= GridSearchCV(x_train,y_train,MultinomialNB(),3,1)"
   ]
  },
  {
   "cell_type": "code",
   "execution_count": 28,
   "metadata": {},
   "outputs": [
    {
     "data": {
      "image/png": "[encoded data removed]",
      "text/plain": [
       "<Figure size 432x288 with 1 Axes>"
      ]
     },
     "metadata": {
      "needs_background": "light"
     },
     "output_type": "display_data"
    }
   ],
   "source": [
    "# Curve_plot(train score,cv score,param)\n",
    "Curve_plot(t_sc_1,cv_sc_1,param)"
   ]
  },
  {
   "cell_type": "markdown",
   "metadata": {},
   "source": [
    "> Best Hyper-parameter for BOW--->0.1"
   ]
  },
  {
   "cell_type": "code",
   "execution_count": 41,
   "metadata": {},
   "outputs": [],
   "source": [
    "# Vectorizing trainin and testing data\n",
    "X_train_1,X_test_1,feature_list=Vectorization(x_train,x_test,1)"
   ]
  },
  {
   "cell_type": "code",
   "execution_count": 43,
   "metadata": {},
   "outputs": [],
   "source": [
    "#  Defining Model\n",
    "model=MultinomialNB(alpha=0.1)"
   ]
  },
  {
   "cell_type": "code",
   "execution_count": 44,
   "metadata": {},
   "outputs": [
    {
     "data": {
      "text/plain": [
       "MultinomialNB(alpha=0.1, class_prior=None, fit_prior=True)"
      ]
     },
     "execution_count": 44,
     "metadata": {},
     "output_type": "execute_result"
    }
   ],
   "source": [
    "# Fitting Model\n",
    "model.fit(X_train_1,y_train)"
   ]
  },
  {
   "cell_type": "code",
   "execution_count": 45,
   "metadata": {},
   "outputs": [],
   "source": [
    "# Predcing log probability & calculating Auc score on training set\n",
    "_1_tr_pred     = model.predict_log_proba(X_train_1)[:,1]\n",
    "_1_tr_score    = roc_auc_score(y_train,_1_tr_pred)"
   ]
  },
  {
   "cell_type": "code",
   "execution_count": 46,
   "metadata": {},
   "outputs": [],
   "source": [
    "# Predcing log probability & calculating Auc score on test set\n",
    "_1_te_pred        = model.predict_log_proba(X_test_1)[:,1]\n",
    "_1_te_score       = roc_auc_score(y_test,_1_te_pred )"
   ]
  },
  {
   "cell_type": "code",
   "execution_count": 47,
   "metadata": {},
   "outputs": [],
   "source": [
    "# Collecting TPR,FPR & thresholds for Train & Test set\n",
    "_1_tr_fpr ,_1_tr_tpr ,_1_tr_thresold = roc_curve(y_train,_1_tr_pred )\n",
    "_1_te_fpr ,_1_te_tpr ,_1_te_thresold = roc_curve(y_test,_1_te_pred )"
   ]
  },
  {
   "cell_type": "code",
   "execution_count": 48,
   "metadata": {},
   "outputs": [
    {
     "data": {
      "image/png": "[encoded data removed]",
      "text/plain": [
       "<Figure size 432x288 with 1 Axes>"
      ]
     },
     "metadata": {
      "needs_background": "light"
     },
     "output_type": "display_data"
    },
    {
     "name": "stdout",
     "output_type": "stream",
     "text": [
      "AUC Score for Train == 0.7438171400033545\n",
      "AUC Score for Test  == 0.6790446713222033\n"
     ]
    }
   ],
   "source": [
    "# ploting ROC Curve\n",
    "plt.plot(_1_tr_fpr ,_1_tr_tpr,label='Train ROC')\n",
    "plt.plot(_1_te_fpr ,_1_te_tpr,label='Test ROC')\n",
    "plt.xlabel('FPR')\n",
    "plt.ylabel('TPR')\n",
    "plt.title('ROC For Train & Test')\n",
    "plt.show()\n",
    "\n",
    "# printing AUC values\n",
    "print('AUC Score for Train ==',_1_tr_score )\n",
    "print('AUC Score for Test  ==',_1_te_score )"
   ]
  },
  {
   "cell_type": "code",
   "execution_count": 49,
   "metadata": {},
   "outputs": [],
   "source": [
    "# calculating confusion matrix\n",
    "tn_1,fp_1,fn_1,tp_1=confusion_matrix (y_test,[ 0 if _1_te_pred[i] < m.log(0.5) else 1 for i in range(len(_1_te_pred))]).ravel()"
   ]
  },
  {
   "cell_type": "code",
   "execution_count": 50,
   "metadata": {},
   "outputs": [
    {
     "name": "stdout",
     "output_type": "stream",
     "text": [
      "Confusion Matrix\n",
      "     \n",
      "               Predicted\n",
      "             \n",
      "         ___|__0___|__1____|\n",
      "   A        |      |       |\n",
      "   c     0  | 2314 |  3145 |\n",
      "   t     ___|______|_______|\n",
      "   u        |      |       |\n",
      "   a     1  | 6182 |  24410|\n",
      "   l     ___|______|_______|\n"
     ]
    }
   ],
   "source": [
    "# Printing Confusion Matrix \n",
    "print(f'''Confusion Matrix\n",
    "     \n",
    "               Predicted\n",
    "             \n",
    "         ___|__0___|__1____|\n",
    "   A        |      |       |\n",
    "   c     0  | {tn_1} |  {fp_1} |\n",
    "   t     ___|______|_______|\n",
    "   u        |      |       |\n",
    "   a     1  | {fn_1} |  {tp_1}|\n",
    "   l     ___|______|_______|''',)"
   ]
  },
  {
   "cell_type": "code",
   "execution_count": 51,
   "metadata": {},
   "outputs": [
    {
     "name": "stdout",
     "output_type": "stream",
     "text": [
      "Top 20 useful feature for predicting class 1 are following :\n",
      " \n",
      " ['mrs' 'language' 'literacy' 'literacy language' 'grades_prek_2' 'science'\n",
      " 'math' 'math science' 'ms' 'grades_3_5' 'student need' 'student'\n",
      " 'student' 'need' 'mathematics' 'writing' 'literature writing'\n",
      " 'literature' 'literacy' 'grades_6_8']\n"
     ]
    }
   ],
   "source": [
    "print('Top 20 useful feature for predicting class 1 are following :\\n \\n' , top_n_feature(20,feature_list,model.feature_log_prob_[1]))"
   ]
  },
  {
   "cell_type": "markdown",
   "metadata": {},
   "source": [
    "> For Tf-idf repreentation"
   ]
  },
  {
   "cell_type": "code",
   "execution_count": 52,
   "metadata": {},
   "outputs": [
    {
     "name": "stderr",
     "output_type": "stream",
     "text": [
      "100%|█████████████████████████████████████████████████████████████████████████████████████████████████████████████████████████████████| 9/9 [1:29:10<00:00, 593.97s/it]\n"
     ]
    }
   ],
   "source": [
    "#  GridSearchCV(x_train,y_train,classifier,folds,transform_type)\n",
    "t_sc_2,cv_sc_2 = GridSearchCV(x_train,y_train,MultinomialNB(),3,2)"
   ]
  },
  {
   "cell_type": "code",
   "execution_count": 53,
   "metadata": {},
   "outputs": [
    {
     "data": {
      "image/png": "[encoded data removed]",
      "text/plain": [
       "<Figure size 432x288 with 1 Axes>"
      ]
     },
     "metadata": {
      "needs_background": "light"
     },
     "output_type": "display_data"
    }
   ],
   "source": [
    "Curve_plot(t_sc_2,cv_sc_2,param)"
   ]
  },
  {
   "cell_type": "markdown",
   "metadata": {},
   "source": [
    ">Best Hyper-parameter for Ti-idf ----->0.1"
   ]
  },
  {
   "cell_type": "code",
   "execution_count": 54,
   "metadata": {},
   "outputs": [],
   "source": [
    "# Vectorizing trainin and testing data\n",
    "X_train_2,X_test_2,feature_list_2=Vectorization(x_train,x_test,2)"
   ]
  },
  {
   "cell_type": "code",
   "execution_count": 56,
   "metadata": {},
   "outputs": [],
   "source": [
    "#  Defining Model\n",
    "model_2=MultinomialNB(alpha=0.1)"
   ]
  },
  {
   "cell_type": "code",
   "execution_count": 57,
   "metadata": {},
   "outputs": [
    {
     "data": {
      "text/plain": [
       "MultinomialNB(alpha=0.1, class_prior=None, fit_prior=True)"
      ]
     },
     "execution_count": 57,
     "metadata": {},
     "output_type": "execute_result"
    }
   ],
   "source": [
    "# Fitting Model\n",
    "model_2.fit(X_train_2,y_train)"
   ]
  },
  {
   "cell_type": "code",
   "execution_count": 58,
   "metadata": {},
   "outputs": [],
   "source": [
    "# Predcing log probability & calculating Auc score on training set\n",
    "_2_tr_pred     = model_2.predict_log_proba(X_train_2)[:,1]\n",
    "_2_tr_score    = roc_auc_score(y_train,_2_tr_pred)"
   ]
  },
  {
   "cell_type": "code",
   "execution_count": 59,
   "metadata": {},
   "outputs": [],
   "source": [
    "# Predcing log probability & calculating Auc score on test set\n",
    "_2_te_pred        = model_2.predict_log_proba(X_test_2)[:,1]\n",
    "_2_te_score       = roc_auc_score(y_test,_2_te_pred )"
   ]
  },
  {
   "cell_type": "code",
   "execution_count": 60,
   "metadata": {},
   "outputs": [],
   "source": [
    "# Collecting TPR,FPR & thresholds for Train & Test set\n",
    "_2_tr_fpr ,_2_tr_tpr ,_2_tr_thresold = roc_curve(y_train,_2_tr_pred )\n",
    "_2_te_fpr ,_2_te_tpr ,_2_te_thresold = roc_curve(y_test,_2_te_pred )"
   ]
  },
  {
   "cell_type": "code",
   "execution_count": 61,
   "metadata": {},
   "outputs": [
    {
     "data": {
      "image/png": "[encoded data removed]",
      "text/plain": [
       "<Figure size 432x288 with 1 Axes>"
      ]
     },
     "metadata": {
      "needs_background": "light"
     },
     "output_type": "display_data"
    },
    {
     "name": "stdout",
     "output_type": "stream",
     "text": [
      "AUC Score for Train == 0.7451126307294409\n",
      "AUC Score for Test  == 0.6842498509955538\n"
     ]
    }
   ],
   "source": [
    "plt.plot(_2_tr_fpr ,_2_tr_tpr,label='Train ROC')\n",
    "plt.plot(_2_te_fpr ,_2_te_tpr,label='Test ROC')\n",
    "plt.xlabel('FPR')\n",
    "plt.ylabel('TPR')\n",
    "plt.title('ROC For Train & Test')\n",
    "plt.show()\n",
    "\n",
    "# printing AUC values\n",
    "print('AUC Score for Train ==',_2_tr_score )\n",
    "print('AUC Score for Test  ==',_2_te_score )"
   ]
  },
  {
   "cell_type": "code",
   "execution_count": 62,
   "metadata": {},
   "outputs": [],
   "source": [
    "# calculating confusion matrix\n",
    "tn_2,fp_2,fn_2,tp_2=confusion_matrix (y_test,[ 0 if _2_te_pred[i] < m.log(0.5) else 1 for i in range(len(_2_te_pred))]).ravel()"
   ]
  },
  {
   "cell_type": "code",
   "execution_count": 63,
   "metadata": {},
   "outputs": [
    {
     "name": "stdout",
     "output_type": "stream",
     "text": [
      "Confusion Matrix\n",
      "     \n",
      "               Predicted\n",
      "             \n",
      "         ___|__0___|__1____|\n",
      "   A        |      |       |\n",
      "   c     0  | 2331 |  3128 |\n",
      "   t     ___|______|_______|\n",
      "   u        |      |       |\n",
      "   a     1  | 5994 |  24598|\n",
      "   l     ___|______|_______|\n"
     ]
    }
   ],
   "source": [
    "# Printing Confusion Matrix \n",
    "print(f'''Confusion Matrix\n",
    "     \n",
    "               Predicted\n",
    "             \n",
    "         ___|__0___|__1____|\n",
    "   A        |      |       |\n",
    "   c     0  | {tn_2} |  {fp_2} |\n",
    "   t     ___|______|_______|\n",
    "   u        |      |       |\n",
    "   a     1  | {fn_2} |  {tp_2}|\n",
    "   l     ___|______|_______|''',)"
   ]
  },
  {
   "cell_type": "code",
   "execution_count": 64,
   "metadata": {},
   "outputs": [
    {
     "name": "stdout",
     "output_type": "stream",
     "text": [
      "Top 20 useful feature for predicting class 1 are following :\n",
      " \n",
      " ['mrs' 'grades_prek_2' 'ms' 'grades_3_5' 'literacy language' 'literacy'\n",
      " 'language' 'student' 'math' 'math science' 'science' 'learn' 'literacy'\n",
      " 'school' 'grades_6_8' 'ca' 'language math'\n",
      " 'literacy language math science' 'literacy language math'\n",
      " 'language math science']\n"
     ]
    }
   ],
   "source": [
    "print('Top 20 useful feature for predicting class 1 are following :\\n \\n' , top_n_feature(20,feature_list_2,model_2.feature_log_prob_[1]))"
   ]
  },
  {
   "cell_type": "markdown",
   "metadata": {},
   "source": [
    " \n",
    "<table>\n",
    "    <caption>Summary</caption>\n",
    "    <tr><th>Vectorizer</th><th>Model</th><th>Hyper-parameter</th><th>AUC</th> </tr>\n",
    "    <tr><td>BOW</td><td>MultinomialNB</td><td>0.0001</td><td>0.6790446713222033</td></tr>\n",
    "    <tr><td>TFIDf</td><td>MultinomialNB</td><td>0.001</td><td>0.6842498509955538</td></tr>\n",
    "\n",
    "</table>"
   ]
  },
  {
   "cell_type": "markdown",
   "metadata": {},
   "source": [
    "*******************************************************************************************************************************"
   ]
  }
 ],
 "metadata": {
  "kernelspec": {
   "display_name": "Python 3",
   "language": "python",
   "name": "python3"
  },
  "language_info": {
   "codemirror_mode": {
    "name": "ipython",
    "version": 3
   },
   "file_extension": ".py",
   "mimetype": "text/x-python",
   "name": "python",
   "nbconvert_exporter": "python",
   "pygments_lexer": "ipython3",
   "version": "3.7.3"
  }
 },
 "nbformat": 4,
 "nbformat_minor": 2
}
