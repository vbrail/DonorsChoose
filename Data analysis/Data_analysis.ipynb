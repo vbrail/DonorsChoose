{
 "cells": [
  {
   "cell_type": "code",
   "execution_count": null,
   "metadata": {},
   "outputs": [],
   "source": [
    "import pandas as pd\n",
    "import numpy as np\n",
    "import matplotlib.pyplot as plt\n",
    "import seaborn as sns\n",
    "from tqdm import tqdm\n",
    "import warnings\n",
    "warnings.filterwarnings(\"ignore\")\n",
    "from collections import Counter"
   ]
  },
  {
   "cell_type": "code",
   "execution_count": null,
   "metadata": {},
   "outputs": [],
   "source": [
    "project_data = pd.read_csv('projects.csv')\n",
    "resource_data = pd.read_csv('resources.csv')"
   ]
  },
  {
   "cell_type": "code",
   "execution_count": null,
   "metadata": {},
   "outputs": [],
   "source": [
    "print(\"shape of projects data\", project_data.shape)\n",
    "print(\"column names :\", project_data.columns)"
   ]
  },
  {
   "cell_type": "code",
   "execution_count": null,
   "metadata": {},
   "outputs": [],
   "source": [
    "print(\"shape of resource data\", resource_data.shape)\n",
    "print(resource_data.columns)"
   ]
  },
  {
   "cell_type": "markdown",
   "metadata": {},
   "source": [
    "# Data Analysis"
   ]
  },
  {
   "cell_type": "code",
   "execution_count": null,
   "metadata": {},
   "outputs": [],
   "source": [
    "data_proj['project_is_approved'].value_counts()"
   ]
  },
  {
   "cell_type": "markdown",
   "metadata": {},
   "source": [
    "###  School State"
   ]
  },
  {
   "cell_type": "code",
   "execution_count": null,
   "metadata": {},
   "outputs": [],
   "source": [
    "temp.sort_values(by=['num_proposals'], inplace=True)\n",
    "print(\"States with lowest % approvals\")\n",
    "print(temp.head(5))\n",
    "print('='*50)\n",
    "print(\"States with highest % approvals\")\n",
    "print(temp.tail(5))"
   ]
  },
  {
   "cell_type": "code",
   "execution_count": null,
   "metadata": {},
   "outputs": [],
   "source": [
    "#stacked bar plots matplotlib: https://matplotlib.org/gallery/lines_bars_and_markers/bar_stacked.html\n",
    "def stack_plot(data, xtick, col2='project_is_approved', col3='total'):\n",
    "    ind = np.arange(data.shape[0])\n",
    "    \n",
    "    plt.figure(figsize=(20,5))\n",
    "    p1 = plt.bar(ind, data[col3].values)\n",
    "    p2 = plt.bar(ind, data[col2].values)\n",
    "\n",
    "    plt.ylabel('Projects')\n",
    "    plt.title('% of projects aproved state wise')\n",
    "    plt.xticks(ind, list(data[xtick].values))\n",
    "    plt.legend((p1[0], p2[0]), ('total', 'accepted'))\n",
    "    plt.show()"
   ]
  },
  {
   "cell_type": "code",
   "execution_count": null,
   "metadata": {},
   "outputs": [],
   "source": [
    "def univariate_barplots(data, col1, col2='project_is_approved', top=False):\n",
    "    temp = pd.DataFrame(project_data.groupby(col1)[col2].agg(lambda x: x.eq(1).sum())).reset_index()\n",
    "    temp['total'] = pd.DataFrame(project_data.groupby(col1)[col2].agg({'total':'count'})).reset_index()['total']\n",
    "    temp['Avg'] = pd.DataFrame(project_data.groupby(col1)[col2].agg({'Avg':'mean'})).reset_index()['Avg']\n",
    "    temp.sort_values(by=['total'],inplace=True, ascending=False)\n",
    "    if top:\n",
    "        temp = temp[0:top]\n",
    "    \n",
    "    stack_plot(temp, xtick=col1, col2=col2, col3='total')\n",
    "    print(temp.head(5))\n",
    "    print(\"=\"*50)\n",
    "    print(temp.tail(5))"
   ]
  },
  {
   "cell_type": "code",
   "execution_count": null,
   "metadata": {},
   "outputs": [],
   "source": [
    "univariate_barplots(project_data, 'school_state', 'project_is_approved', False)"
   ]
  },
  {
   "cell_type": "markdown",
   "metadata": {},
   "source": [
    " # teacher prefix"
   ]
  },
  {
   "cell_type": "code",
   "execution_count": null,
   "metadata": {},
   "outputs": [],
   "source": [
    "univariate_barplots(project_data, 'teacher_prefix', 'project_is_approved' , top=False)"
   ]
  },
  {
   "cell_type": "markdown",
   "metadata": {},
   "source": [
    "### project grade category"
   ]
  },
  {
   "cell_type": "code",
   "execution_count": null,
   "metadata": {},
   "outputs": [],
   "source": [
    "univariate_barplots(project_data, 'project_grade_category', 'project_is_approved', top=False)"
   ]
  },
  {
   "cell_type": "markdown",
   "metadata": {},
   "source": [
    "###  project subject categories"
   ]
  },
  {
   "cell_type": "code",
   "execution_count": null,
   "metadata": {},
   "outputs": [],
   "source": [
    "catogories = list(project_data['project_subject_categories'].values)\n",
    "cat_list = []\n",
    "for i in catogories:\n",
    "    temp = \"\"\n",
    "    for j in i.split(','): \n",
    "        if 'The' in j.split(): \n",
    "            j=j.replace('The','') \n",
    "        j = j.replace(' ','')\n",
    "        temp+=j.strip()+\" \"\n",
    "        temp = temp.replace('&','_')  \n",
    "    cat_list.append(temp.strip())"
   ]
  },
  {
   "cell_type": "code",
   "execution_count": null,
   "metadata": {},
   "outputs": [],
   "source": [
    "project_data['clean_categories'] = cat_list\n",
    "project_data.drop(['project_subject_categories'], axis=1, inplace=True)\n",
    "project_data.head(2)"
   ]
  },
  {
   "cell_type": "code",
   "execution_count": null,
   "metadata": {
    "scrolled": false
   },
   "outputs": [],
   "source": [
    "univariate_barplots(project_data, 'clean_categories', 'project_is_approved', top=20)"
   ]
  },
  {
   "cell_type": "markdown",
   "metadata": {},
   "source": [
    "###  project subject subcategories"
   ]
  },
  {
   "cell_type": "code",
   "execution_count": null,
   "metadata": {},
   "outputs": [],
   "source": [
    "sub_catogories = list(project_data['project_subject_subcategories'].values)\n",
    "sub_cat_list = []\n",
    "for i in sub_catogories:\n",
    "    temp = \"\"\n",
    "    for j in i.split(','):\n",
    "        if 'The' in j.split(): \n",
    "            j=j.replace('The','') \n",
    "        j = j.replace(' ','')\n",
    "        temp +=j.strip()+\" \"\n",
    "        temp = temp.replace('&','_')\n",
    "    sub_cat_list.append(temp.strip())"
   ]
  },
  {
   "cell_type": "code",
   "execution_count": null,
   "metadata": {},
   "outputs": [],
   "source": [
    "project_data['clean_subcategories'] = sub_cat_list\n",
    "project_data.drop(['project_subject_subcategories'], axis=1, inplace=True)\n",
    "project_data.head(2)"
   ]
  },
  {
   "cell_type": "code",
   "execution_count": null,
   "metadata": {},
   "outputs": [],
   "source": [
    "univariate_barplots(project_data, 'clean_subcategories', 'project_is_approved', top=50)"
   ]
  },
  {
   "cell_type": "code",
   "execution_count": null,
   "metadata": {},
   "outputs": [],
   "source": [
    "# count of all the words in corpus python: https://stackoverflow.com/a/22898595/4084039\n",
    "my_counter = Counter()\n",
    "for word in project_data['clean_subcategories'].values:\n",
    "    my_counter.update(word.split())"
   ]
  },
  {
   "cell_type": "code",
   "execution_count": null,
   "metadata": {},
   "outputs": [],
   "source": [
    "sub_cat_dict = dict(my_counter)\n",
    "sorted_sub_cat_dict = dict(sorted(sub_cat_dict.items(), key=lambda kv: kv[1]))\n",
    "\n",
    "\n",
    "ind = np.arange(len(sorted_sub_cat_dict))\n",
    "plt.figure(figsize=(20,5))\n",
    "p1 = plt.bar(ind, list(sorted_sub_cat_dict.values()))\n",
    "\n",
    "plt.ylabel('Projects')\n",
    "plt.title('% of projects aproved state wise')\n",
    "plt.xticks(ind, list(sorted_sub_cat_dict.keys()))\n",
    "plt.show()"
   ]
  },
  {
   "cell_type": "code",
   "execution_count": null,
   "metadata": {},
   "outputs": [],
   "source": [
    "for i, j in sorted_sub_cat_dict.items():\n",
    "    print(\"{:20} :{:10}\".format(i,j))"
   ]
  },
  {
   "cell_type": "markdown",
   "metadata": {},
   "source": [
    "###  Title"
   ]
  },
  {
   "cell_type": "code",
   "execution_count": null,
   "metadata": {},
   "outputs": [],
   "source": [
    "word_count = project_data['project_title'].str.split().apply(len).value_counts()\n",
    "word_dict = dict(word_count)\n",
    "word_dict = dict(sorted(word_dict.items(), key=lambda kv: kv[1]))\n",
    "\n",
    "\n",
    "ind = np.arange(len(word_dict))\n",
    "plt.figure(figsize=(20,5))\n",
    "p1 = plt.bar(ind, list(word_dict.values()))\n",
    "\n",
    "plt.ylabel('Numeber of projects')\n",
    "plt.title('Words for each title of the project')\n",
    "plt.xticks(ind, list(word_dict.keys()))\n",
    "plt.show()"
   ]
  },
  {
   "cell_type": "code",
   "execution_count": null,
   "metadata": {},
   "outputs": [],
   "source": [
    "approved_word_count = project_data[project_data['project_is_approved']==1]['project_title'].str.split().apply(len)\n",
    "approved_word_count = approved_word_count.values\n",
    "\n",
    "rejected_word_count = project_data[project_data['project_is_approved']==0]['project_title'].str.split().apply(len)\n",
    "rejected_word_count = rejected_word_count.values"
   ]
  },
  {
   "cell_type": "code",
   "execution_count": null,
   "metadata": {},
   "outputs": [],
   "source": [
    "plt.boxplot([approved_word_count, rejected_word_count])\n",
    "plt.xticks([1,2],('Approved Projects','Rejected Projects'))\n",
    "plt.ylabel('Words in project title')\n",
    "plt.grid()\n",
    "plt.show()"
   ]
  },
  {
   "cell_type": "code",
   "execution_count": null,
   "metadata": {},
   "outputs": [],
   "source": [
    "plt.figure(figsize=(10,3))\n",
    "sns.distplot(approved_word_count, hist=False, label=\"Approved Projects\")\n",
    "sns.distplot(rejected_word_count, hist=False, label=\"Not Approved Projects\")\n",
    "plt.legend()\n",
    "plt.show()"
   ]
  },
  {
   "cell_type": "markdown",
   "metadata": {},
   "source": [
    "### Project Essay's"
   ]
  },
  {
   "cell_type": "code",
   "execution_count": null,
   "metadata": {},
   "outputs": [],
   "source": [
    "project_data[\"essay\"] = project_data[\"project_essay_1\"].map(str) +\\\n",
    "                        project_data[\"project_essay_2\"].map(str) + \\\n",
    "                        project_data[\"project_essay_3\"].map(str) + \\\n",
    "                        project_data[\"project_essay_4\"].map(str)"
   ]
  },
  {
   "cell_type": "code",
   "execution_count": null,
   "metadata": {},
   "outputs": [],
   "source": [
    "word_count = project_data['essay'].str.split().apply(len).value_counts()\n",
    "word_dict = dict(word_count)\n",
    "word_dict = dict(sorted(word_dict.items(), key=lambda kv: kv[1]))\n",
    "\n",
    "\n",
    "ind = np.arange(len(word_dict))\n",
    "plt.figure(figsize=(20,5))\n",
    "p1 = plt.bar(ind, list(word_dict.values()))\n",
    "\n",
    "plt.ylabel('Number of projects')\n",
    "plt.xlabel('Number of words in each eassay')\n",
    "plt.title('Words for each essay of the project')\n",
    "plt.xticks(ind, list(word_dict.keys()))\n",
    "plt.show()"
   ]
  },
  {
   "cell_type": "code",
   "execution_count": null,
   "metadata": {},
   "outputs": [],
   "source": [
    "sns.distplot(word_count.values)\n",
    "plt.title('Words for each essay of the project')\n",
    "plt.xlabel('Number of words in each eassay')\n",
    "plt.show()\n"
   ]
  },
  {
   "cell_type": "code",
   "execution_count": null,
   "metadata": {},
   "outputs": [],
   "source": [
    "approved_word_count = project_data[project_data['project_is_approved']==1]['essay'].str.split().apply(len)\n",
    "approved_word_count = approved_word_count.values\n",
    "\n",
    "rejected_word_count = project_data[project_data['project_is_approved']==0]['essay'].str.split().apply(len)\n",
    "rejected_word_count = rejected_word_count.values"
   ]
  },
  {
   "cell_type": "code",
   "execution_count": null,
   "metadata": {},
   "outputs": [],
   "source": [
    "plt.boxplot([approved_word_count, rejected_word_count])\n",
    "plt.title('Words for each essay of the project')\n",
    "plt.xticks([1,2],('Approved Projects','Rejected Projects'))\n",
    "plt.ylabel('Words in project title')\n",
    "plt.grid()\n",
    "plt.show()"
   ]
  },
  {
   "cell_type": "code",
   "execution_count": null,
   "metadata": {},
   "outputs": [],
   "source": [
    "plt.figure(figsize=(10,3))\n",
    "sns.distplot(approved_word_count, hist=False, label=\"Approved Projects\")\n",
    "sns.distplot(rejected_word_count, hist=False, label=\"Not Approved Projects\")\n",
    "plt.title('Words for each essay of the project')\n",
    "plt.xlabel('Number of words in each eassay')\n",
    "plt.legend()\n",
    "plt.show()"
   ]
  },
  {
   "cell_type": "markdown",
   "metadata": {},
   "source": [
    "###  Cost per project"
   ]
  },
  {
   "cell_type": "code",
   "execution_count": null,
   "metadata": {},
   "outputs": [],
   "source": [
    "price_data = resource_data.groupby('id').agg({'price':'sum', 'quantity':'sum'}).reset_index()\n",
    "price_data.head(2)"
   ]
  },
  {
   "cell_type": "code",
   "execution_count": null,
   "metadata": {},
   "outputs": [],
   "source": [
    "project_data = pd.merge(project_data, price_data, on='id', how='left')"
   ]
  },
  {
   "cell_type": "code",
   "execution_count": null,
   "metadata": {},
   "outputs": [],
   "source": [
    "approved_price = project_data[project_data['project_is_approved']==1]['price'].values\n",
    "\n",
    "rejected_price = project_data[project_data['project_is_approved']==0]['price'].values"
   ]
  },
  {
   "cell_type": "code",
   "execution_count": null,
   "metadata": {},
   "outputs": [],
   "source": [
    "plt.boxplot([approved_price, rejected_price])\n",
    "plt.title('Box Plots of Cost per approved and not approved Projects')\n",
    "plt.xticks([1,2],('Approved Projects','Rejected Projects'))\n",
    "plt.ylabel('Words in project title')\n",
    "plt.grid()\n",
    "plt.show()"
   ]
  },
  {
   "cell_type": "code",
   "execution_count": null,
   "metadata": {},
   "outputs": [],
   "source": [
    "plt.figure(figsize=(10,3))\n",
    "sns.distplot(approved_price, hist=False, label=\"Approved Projects\")\n",
    "sns.distplot(rejected_price, hist=False, label=\"Not Approved Projects\")\n",
    "plt.title('Cost per approved and not approved Projects')\n",
    "plt.xlabel('Cost of a project')\n",
    "plt.legend()\n",
    "plt.show()"
   ]
  },
  {
   "cell_type": "markdown",
   "metadata": {},
   "source": [
    "### teacher number of previously posted projects"
   ]
  },
  {
   "cell_type": "code",
   "execution_count": null,
   "metadata": {},
   "outputs": [],
   "source": [
    "univariate_barplots(data_proj, 'teacher_number_of_previously_posted_projects', 'project_is_approved', False)"
   ]
  },
  {
   "cell_type": "code",
   "execution_count": null,
   "metadata": {},
   "outputs": [],
   "source": [
    "sns.FacetGrid(data_proj,hue='project_is_approved',height=4).map(sns.distplot,'teacher_number_of_previously_posted_projects').add_legend()\n",
    "plt.title(\"Pdf for teacher_number_of_previously_posted_projects \",fontdict={'fontsize':25},color='brown',pad=20)"
   ]
  },
  {
   "cell_type": "markdown",
   "metadata": {},
   "source": [
    "### digit in project summary"
   ]
  },
  {
   "cell_type": "code",
   "execution_count": null,
   "metadata": {},
   "outputs": [],
   "source": [
    "pat = re.compile('[0-9]')   \n",
    "data_proj['digit_in_project_summary']=[0 if len(pat.findall(data_proj['project_resource_summary'][i]))==0 else 1 for i in range(len(data_proj))]"
   ]
  },
  {
   "cell_type": "code",
   "execution_count": null,
   "metadata": {},
   "outputs": [],
   "source": [
    "univariate_barplots(data_proj,'digit_in_project_summary', 'project_is_approved', False)"
   ]
  }
 ],
 "metadata": {
  "kernelspec": {
   "display_name": "Python 3",
   "language": "python",
   "name": "python3"
  },
  "language_info": {
   "codemirror_mode": {
    "name": "ipython",
    "version": 3
   },
   "file_extension": ".py",
   "mimetype": "text/x-python",
   "name": "python",
   "nbconvert_exporter": "python",
   "pygments_lexer": "ipython3",
   "version": "3.7.3"
  }
 },
 "nbformat": 4,
 "nbformat_minor": 2
}
